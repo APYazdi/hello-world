{
 "cells": [
  {
   "cell_type": "code",
   "execution_count": null,
   "metadata": {},
   "outputs": [],
   "source": [
    "print('hello')"
   ]
  },
  {
   "cell_type": "code",
   "execution_count": 2,
   "metadata": {},
   "outputs": [
    {
     "name": "stdout",
     "output_type": "stream",
     "text": [
      "new\n"
     ]
    }
   ],
   "source": [
    "print('new')"
   ]
  },
  {
   "cell_type": "code",
   "execution_count": 3,
   "metadata": {},
   "outputs": [
    {
     "ename": "IndentationError",
     "evalue": "expected an indented block (<ipython-input-3-ed67844a746d>, line 23)",
     "output_type": "error",
     "traceback": [
      "\u001b[1;36m  File \u001b[1;32m\"<ipython-input-3-ed67844a746d>\"\u001b[1;36m, line \u001b[1;32m23\u001b[0m\n\u001b[1;33m    print(site)\u001b[0m\n\u001b[1;37m        ^\u001b[0m\n\u001b[1;31mIndentationError\u001b[0m\u001b[1;31m:\u001b[0m expected an indented block\n"
     ]
    }
   ],
   "source": [
    "    time.sleep(10)\n",
    "    soup = BeautifulSoup(res.text, 'html.parser')\n",
    "    jvscript=json.loads(soup.find('script',type=\"application/ld+json\").string)\n",
    "    variants=json.loads(soup.findAll('script',type=\"application/json\")[1].string)['variants']\n",
    "    pricesizedict=[{'size': d['title'],'price': d['price']/100 } for d in variants ]\n",
    "    tmp=list(map(lambda class_obj: extract_cls_txt(class_obj),soup.find(class_='custom-fields-wrapper').find_all(class_='custom-field')))\n",
    "    tmp_dict=ChainMap(*tmp)\n",
    "    prod_attr={\n",
    "        'brand':soup.find(class_='brand-and-type').find(\"span\",class_=\"brand\").text.strip(),\n",
    "        'category':soup.find(class_='brand-and-type').find(\"span\",class_=\"type\").text.strip() if soup.find(class_='brand-and-type').find(\"span\",class_=\"type\") is not None else None,\n",
    "        'name':soup.find(class_='product-title').text.strip(),\n",
    "        'productdesc':soup.find(class_='product-description rte').find(\"span\").text.strip() if soup.find(class_='product-description rte').find(\"span\") is not None else soup.find(class_='product-description rte').text.strip(),\n",
    "        #'price':soup.find(class_='product-price').text.strip(),\n",
    "        'url' : site,\n",
    "        'scrapedate' : datetime.now().strftime(\"%Y-%m-%d\"),\n",
    "        'website' : 'https://patient-choice.com'\n",
    "        }\n",
    "    prod_attr.update(tmp_dict)\n",
    "    final = ChainMap(*[{**prod_attr, **y} for y in pricesizedict])\n",
    "    return final\n",
    "\n",
    "def scrapebkp(site):\n",
    "    print(site)\n",
    "    res=requests.get(site)\n",
    "    time.sleep(10)\n",
    "    soup = BeautifulSoup(res.text, 'html.parser')\n",
    "    jvscript=json.loads(soup.find('script',type=\"application/ld+json\").string)\n",
    "    pricedict = ChainMap(*[{re.findall(r'[0-9]+',d['url'])[0]: (d['price'],d['priceCurrency'])} for d in jvscript['offers'] ])\n",
    "    sizedict =  ChainMap(*list(map(lambda size: parse_size(size),soup.find(class_='product-form').find('select',class_=\"original-selector\").findAll('option')) if len(pricedict)>1 else [{'Size':soup.find(class_='product-form').find(class_='selector-wrapper').text.replace(\"Size:\",\"\").strip()}] if soup.find(class_='product-form').find(class_='selector-wrapper') is not None else [{'Size': 0}] ))\n",
    "    keys=[k for k in pricedict.keys()]\n",
    "    pricesizedict = [{'price':pricedict[k][0], 'cur':pricedict[k][1], 'size':sizedict[k] if len(pricedict)>1 else sizedict['Size']} for k in keys]\n",
    "    tmp=list(map(lambda class_obj: extract_cls_txt(class_obj),soup.find(class_='custom-fields-wrapper').find_all(class_='custom-field')))\n",
    "    tmp_dict=ChainMap(*tmp)\n",
    "    prod_attr={\n",
    "        'brand':soup.find(class_='brand-and-type').find(\"span\",class_=\"brand\").text.strip(),\n",
    "        'category':soup.find(class_='brand-and-type').find(\"span\",class_=\"type\").text.strip() if soup.find(class_='brand-and-type').find(\"span\",class_=\"type\") is not None else None,\n",
    "        'name':soup.find(class_='product-title').text.strip(),\n",
    "        'productdesc':soup.find(class_='product-description rte').find(\"span\").text.strip() if soup.find(class_='product-description rte').find(\"span\") is not None else soup.find(class_='product-description rte').text.strip(),\n",
    "        #'price':soup.find(class_='product-price').text.strip(),\n",
    "        'url' : site,\n",
    "        'scrapedate' : datetime.now().strftime(\"%Y-%m-%d\"),\n",
    "        'website' : 'https://patient-choice.com'\n",
    "        }\n",
    "    prod_attr.update(tmp_dict)\n",
    "    final = ChainMap(*[{**prod_attr, **y} for y in pricesizedict])\n",
    "    return final\n",
    "\n",
    "\n",
    "\n",
    "from multiprocessing.pool import ThreadPool\n",
    "pool = ThreadPool(4)\n",
    "data = pool.map(scrape, list(enumerate(product_urls)))\n",
    "data_df = pd.DataFrame(filter(None, data))\n",
    "data_df.to_csv(\"PC_\"+date.today().strftime(\"%Y%m%d\")+\".csv\",\n",
    "                     index=False)"
   ]
  },
  {
   "cell_type": "markdown",
   "metadata": {},
   "source": [
    "Here you can write just notes"
   ]
  },
  {
   "cell_type": "markdown",
   "metadata": {},
   "source": [
    "By making this 'cell' into a (markdown)"
   ]
  },
  {
   "cell_type": "code",
   "execution_count": null,
   "metadata": {},
   "outputs": [],
   "source": []
  }
 ],
 "metadata": {
  "kernelspec": {
   "display_name": "Python 3",
   "language": "python",
   "name": "python3"
  },
  "language_info": {
   "codemirror_mode": {
    "name": "ipython",
    "version": 3
   },
   "file_extension": ".py",
   "mimetype": "text/x-python",
   "name": "python",
   "nbconvert_exporter": "python",
   "pygments_lexer": "ipython3",
   "version": "3.7.6"
  }
 },
 "nbformat": 4,
 "nbformat_minor": 4
}
